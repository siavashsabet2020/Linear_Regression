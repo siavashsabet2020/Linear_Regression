{
 "cells": [
  {
   "metadata": {},
   "cell_type": "markdown",
   "source": "# Importing Libraries",
   "id": "147a0aa0f97b182a"
  },
  {
   "cell_type": "code",
   "id": "initial_id",
   "metadata": {
    "collapsed": true,
    "ExecuteTime": {
     "end_time": "2024-06-10T21:47:26.701706Z",
     "start_time": "2024-06-10T21:47:25.849385Z"
    }
   },
   "source": [
    "import pandas as pd\n",
    "import numpy as np\n",
    "import matplotlib.pyplot as plt\n",
    "import random as rn"
   ],
   "outputs": [],
   "execution_count": 2
  },
  {
   "metadata": {},
   "cell_type": "markdown",
   "source": "# Reading Dataset File using Pandas\n",
   "id": "1e8674848820fcd7"
  },
  {
   "metadata": {
    "ExecuteTime": {
     "end_time": "2024-06-10T21:47:27.036613Z",
     "start_time": "2024-06-10T21:47:26.701706Z"
    }
   },
   "cell_type": "code",
   "source": [
    "path = 'LinearRegressionDataset.xlsx'\n",
    "data = pd.read_excel(path)\n",
    "data.head()"
   ],
   "id": "c14c26a5f3332f0c",
   "outputs": [
    {
     "data": {
      "text/plain": [
       "   52  45  48  70  2   0.1  2.1  50  3  0.1.1  2.2  32  1.94\n",
       "0  57  90  72  70  1  0.30    1  70  1   0.40    1  32  1.95\n",
       "1  57  55  43  83  3  0.10    3  65  3   0.15    3  32  1.95\n",
       "2  57  76  59  82  2  0.15    2  75  1   0.25    2  32  1.95\n",
       "3  40  30  35  65  2  0.08    3  85  3   0.08    3  32  1.96\n",
       "4  40  45  35  65  2  0.10    3  35  1   0.10    3  32  1.97"
      ],
      "text/html": [
       "<div>\n",
       "<style scoped>\n",
       "    .dataframe tbody tr th:only-of-type {\n",
       "        vertical-align: middle;\n",
       "    }\n",
       "\n",
       "    .dataframe tbody tr th {\n",
       "        vertical-align: top;\n",
       "    }\n",
       "\n",
       "    .dataframe thead th {\n",
       "        text-align: right;\n",
       "    }\n",
       "</style>\n",
       "<table border=\"1\" class=\"dataframe\">\n",
       "  <thead>\n",
       "    <tr style=\"text-align: right;\">\n",
       "      <th></th>\n",
       "      <th>52</th>\n",
       "      <th>45</th>\n",
       "      <th>48</th>\n",
       "      <th>70</th>\n",
       "      <th>2</th>\n",
       "      <th>0.1</th>\n",
       "      <th>2.1</th>\n",
       "      <th>50</th>\n",
       "      <th>3</th>\n",
       "      <th>0.1.1</th>\n",
       "      <th>2.2</th>\n",
       "      <th>32</th>\n",
       "      <th>1.94</th>\n",
       "    </tr>\n",
       "  </thead>\n",
       "  <tbody>\n",
       "    <tr>\n",
       "      <th>0</th>\n",
       "      <td>57</td>\n",
       "      <td>90</td>\n",
       "      <td>72</td>\n",
       "      <td>70</td>\n",
       "      <td>1</td>\n",
       "      <td>0.30</td>\n",
       "      <td>1</td>\n",
       "      <td>70</td>\n",
       "      <td>1</td>\n",
       "      <td>0.40</td>\n",
       "      <td>1</td>\n",
       "      <td>32</td>\n",
       "      <td>1.95</td>\n",
       "    </tr>\n",
       "    <tr>\n",
       "      <th>1</th>\n",
       "      <td>57</td>\n",
       "      <td>55</td>\n",
       "      <td>43</td>\n",
       "      <td>83</td>\n",
       "      <td>3</td>\n",
       "      <td>0.10</td>\n",
       "      <td>3</td>\n",
       "      <td>65</td>\n",
       "      <td>3</td>\n",
       "      <td>0.15</td>\n",
       "      <td>3</td>\n",
       "      <td>32</td>\n",
       "      <td>1.95</td>\n",
       "    </tr>\n",
       "    <tr>\n",
       "      <th>2</th>\n",
       "      <td>57</td>\n",
       "      <td>76</td>\n",
       "      <td>59</td>\n",
       "      <td>82</td>\n",
       "      <td>2</td>\n",
       "      <td>0.15</td>\n",
       "      <td>2</td>\n",
       "      <td>75</td>\n",
       "      <td>1</td>\n",
       "      <td>0.25</td>\n",
       "      <td>2</td>\n",
       "      <td>32</td>\n",
       "      <td>1.95</td>\n",
       "    </tr>\n",
       "    <tr>\n",
       "      <th>3</th>\n",
       "      <td>40</td>\n",
       "      <td>30</td>\n",
       "      <td>35</td>\n",
       "      <td>65</td>\n",
       "      <td>2</td>\n",
       "      <td>0.08</td>\n",
       "      <td>3</td>\n",
       "      <td>85</td>\n",
       "      <td>3</td>\n",
       "      <td>0.08</td>\n",
       "      <td>3</td>\n",
       "      <td>32</td>\n",
       "      <td>1.96</td>\n",
       "    </tr>\n",
       "    <tr>\n",
       "      <th>4</th>\n",
       "      <td>40</td>\n",
       "      <td>45</td>\n",
       "      <td>35</td>\n",
       "      <td>65</td>\n",
       "      <td>2</td>\n",
       "      <td>0.10</td>\n",
       "      <td>3</td>\n",
       "      <td>35</td>\n",
       "      <td>1</td>\n",
       "      <td>0.10</td>\n",
       "      <td>3</td>\n",
       "      <td>32</td>\n",
       "      <td>1.97</td>\n",
       "    </tr>\n",
       "  </tbody>\n",
       "</table>\n",
       "</div>"
      ]
     },
     "execution_count": 3,
     "metadata": {},
     "output_type": "execute_result"
    }
   ],
   "execution_count": 3
  },
  {
   "metadata": {},
   "cell_type": "markdown",
   "source": "# Creating a Data Frame using pandas",
   "id": "a3ddb966973c9ab9"
  },
  {
   "metadata": {
    "ExecuteTime": {
     "end_time": "2024-06-10T21:47:27.040767Z",
     "start_time": "2024-06-10T21:47:27.036613Z"
    }
   },
   "cell_type": "code",
   "source": "df = pd.DataFrame(data)",
   "id": "971ca95433cad0d4",
   "outputs": [],
   "execution_count": 4
  },
  {
   "metadata": {},
   "cell_type": "markdown",
   "source": "# Selecting Inputs and Outputs from my data ( Datas and Labels )",
   "id": "3a61845d1f5b3817"
  },
  {
   "metadata": {
    "ExecuteTime": {
     "end_time": "2024-06-10T21:47:27.048411Z",
     "start_time": "2024-06-10T21:47:27.040767Z"
    }
   },
   "cell_type": "code",
   "source": [
    "x_inputs = df.iloc[:, :-1].values\n",
    "y_outputs = df.iloc[:, -1].values\n",
    "print(y_outputs)"
   ],
   "id": "4eeade5d94816de9",
   "outputs": [
    {
     "name": "stdout",
     "output_type": "stream",
     "text": [
      "[1.95 1.95 1.95 1.96 1.97 1.97 2.   2.   2.   2.01 2.02 2.04 2.04 2.05\n",
      " 2.05 2.07 2.09 2.09 2.1  2.1  2.13 2.13 2.13 2.15 2.15 2.15 2.15 2.16\n",
      " 2.18 2.18 2.18 2.18 2.19 2.2  2.2  2.22 2.22 2.24 2.24 2.24 2.24 2.24\n",
      " 2.25 2.25 2.25 2.27 2.27 2.27 2.3  2.3  2.3  2.32 2.32 2.32 2.32 2.32\n",
      " 2.32 2.32 2.33 2.33 2.33 2.33 2.33 2.35 2.36 2.36 2.36 2.37 2.37 2.37\n",
      " 2.37 2.37 2.39 2.39 2.39 2.4  2.4  2.42 2.42 2.42 2.42 2.43 2.43 2.44\n",
      " 2.44 2.44 2.44 2.45 2.45 2.45 2.46 2.46 2.46 2.46 2.47 2.47 2.47 2.48\n",
      " 2.48 2.49 2.49 2.49 2.49 2.5  2.5  2.51 2.51 2.51 2.51 2.51 2.52 2.53\n",
      " 2.54 2.54 2.54 2.54 2.54 2.55 2.55 2.56 2.56 2.56 2.56 2.56 2.56 2.57\n",
      " 2.57 2.57 2.58 2.58 2.58 2.58 2.58 2.58 2.58 2.59 2.59 2.59 2.59 2.59\n",
      " 2.59 2.59 2.6  2.6  2.6  2.6  2.6  2.6  2.6  2.6  2.61 2.61 2.63 2.63\n",
      " 2.63 2.63 2.64 2.64 2.64 2.64 2.65 2.66 2.66 2.66 2.66 2.66 2.66 2.66\n",
      " 2.66 2.66 2.66 2.66 2.66 2.67 2.67 2.67 2.67 2.67 2.68 2.68 2.68 2.7\n",
      " 2.7  2.7  2.7  2.7  2.71 2.71 2.74 2.74 2.74 2.95 3.   3.   3.04 3.06\n",
      " 3.06 3.07 3.07 3.07 3.09 3.1  3.1  3.13 3.13 3.13 3.15 3.15 3.16 3.16\n",
      " 3.16 3.22 3.23 3.24 3.24 3.24 3.24 3.24 3.24 3.24 3.29 3.32 3.33 3.34\n",
      " 3.34 3.34 3.34 3.34 3.36 3.36 3.38 3.38 3.38 3.38 3.38 3.39 3.4  3.41\n",
      " 3.41 3.41 3.41 3.41 3.41 3.41 3.41 3.43 3.43 3.45 3.47 3.47 3.47 3.48\n",
      " 3.49 3.49 3.5  3.52 3.52 3.54 3.54 3.54 3.56 3.56 3.58 3.58 3.58 3.6\n",
      " 3.6  3.6  3.6  3.62 3.65 3.65 3.66 3.66 3.66 3.66 3.68 3.68 3.68 3.68\n",
      " 3.7  3.7  3.72 3.75 3.75 3.77 3.79 3.81 3.81 3.81 3.81 3.81 3.81]\n"
     ]
    }
   ],
   "execution_count": 5
  },
  {
   "metadata": {},
   "cell_type": "markdown",
   "source": "# Data Normalization Using Z-Score Method",
   "id": "44dd128df5e59124"
  },
  {
   "metadata": {
    "ExecuteTime": {
     "end_time": "2024-06-10T21:47:27.052790Z",
     "start_time": "2024-06-10T21:47:27.048411Z"
    }
   },
   "cell_type": "code",
   "source": [
    "x_mean = np.mean(x_inputs, axis=0)\n",
    "x_std = np.std(x_inputs, axis=0)\n",
    "\n",
    "x_inputs = (x_inputs - x_mean) / x_std"
   ],
   "id": "a6694f7bc56bdfc7",
   "outputs": [],
   "execution_count": 6
  },
  {
   "metadata": {
    "ExecuteTime": {
     "end_time": "2024-06-10T21:47:27.057813Z",
     "start_time": "2024-06-10T21:47:27.052790Z"
    }
   },
   "cell_type": "code",
   "source": "x_inputs",
   "id": "b611cabee20d021d",
   "outputs": [
    {
     "data": {
      "text/plain": [
       "array([[ 0.17917811,  0.867049  ,  1.18649426, ...,  1.02201192,\n",
       "        -0.6500021 , -0.96974087],\n",
       "       [ 0.17917811, -1.89602977, -1.88905233, ..., -1.06271025,\n",
       "         2.57797443, -0.96974087],\n",
       "       [ 0.17917811, -0.23818251, -0.19219904, ..., -0.22882138,\n",
       "         0.96398617, -0.96974087],\n",
       "       ...,\n",
       "       [ 1.52531111,  1.26177454,  1.18649426, ...,  4.35756741,\n",
       "        -0.6500021 ,  1.03120332],\n",
       "       [-0.43270052,  1.02493921,  1.18649426, ...,  0.60506749,\n",
       "        -0.6500021 ,  1.03120332],\n",
       "       [-0.43270052,  0.867049  ,  1.18649426, ..., -0.64576582,\n",
       "        -0.6500021 ,  1.03120332]])"
      ]
     },
     "execution_count": 7,
     "metadata": {},
     "output_type": "execute_result"
    }
   ],
   "execution_count": 7
  },
  {
   "metadata": {},
   "cell_type": "markdown",
   "source": "# Adding Bias Terms to input data",
   "id": "39722ecfb333da4e"
  },
  {
   "metadata": {
    "ExecuteTime": {
     "end_time": "2024-06-10T21:47:27.061624Z",
     "start_time": "2024-06-10T21:47:27.057813Z"
    }
   },
   "cell_type": "code",
   "source": "x_inputs = np.hstack([np.ones((x_inputs.shape[0], 1)), x_inputs])",
   "id": "e08e722da8a1600a",
   "outputs": [],
   "execution_count": 8
  },
  {
   "metadata": {
    "ExecuteTime": {
     "end_time": "2024-06-10T21:47:27.066755Z",
     "start_time": "2024-06-10T21:47:27.061624Z"
    }
   },
   "cell_type": "code",
   "source": "x_inputs",
   "id": "50c00c28970d2240",
   "outputs": [
    {
     "data": {
      "text/plain": [
       "array([[ 1.        ,  0.17917811,  0.867049  , ...,  1.02201192,\n",
       "        -0.6500021 , -0.96974087],\n",
       "       [ 1.        ,  0.17917811, -1.89602977, ..., -1.06271025,\n",
       "         2.57797443, -0.96974087],\n",
       "       [ 1.        ,  0.17917811, -0.23818251, ..., -0.22882138,\n",
       "         0.96398617, -0.96974087],\n",
       "       ...,\n",
       "       [ 1.        ,  1.52531111,  1.26177454, ...,  4.35756741,\n",
       "        -0.6500021 ,  1.03120332],\n",
       "       [ 1.        , -0.43270052,  1.02493921, ...,  0.60506749,\n",
       "        -0.6500021 ,  1.03120332],\n",
       "       [ 1.        , -0.43270052,  0.867049  , ..., -0.64576582,\n",
       "        -0.6500021 ,  1.03120332]])"
      ]
     },
     "execution_count": 9,
     "metadata": {},
     "output_type": "execute_result"
    }
   ],
   "execution_count": 9
  },
  {
   "metadata": {},
   "cell_type": "markdown",
   "source": "# Split the data into training and testing sets (70% training, 30% testing)",
   "id": "f60e41ac5d16de3f"
  },
  {
   "metadata": {
    "ExecuteTime": {
     "end_time": "2024-06-10T21:47:27.070511Z",
     "start_time": "2024-06-10T21:47:27.066755Z"
    }
   },
   "cell_type": "code",
   "source": [
    "train_size = int(0.7 * len(x_inputs))\n",
    "x_train, x_test = x_inputs[:train_size], x_inputs[train_size:]\n",
    "y_train, y_test = y_outputs[:train_size], y_outputs[train_size:]"
   ],
   "id": "f15f6a82f33a5412",
   "outputs": [],
   "execution_count": 10
  },
  {
   "metadata": {},
   "cell_type": "markdown",
   "source": "# Initialize model parameters ",
   "id": "23809a0fbee53767"
  },
  {
   "metadata": {
    "ExecuteTime": {
     "end_time": "2024-06-10T21:47:27.076748Z",
     "start_time": "2024-06-10T21:47:27.070511Z"
    }
   },
   "cell_type": "code",
   "source": "theta = np.zeros(x_train.shape[1])",
   "id": "f6155f31bf3fe68e",
   "outputs": [],
   "execution_count": 11
  },
  {
   "metadata": {
    "ExecuteTime": {
     "end_time": "2024-06-10T21:47:27.082675Z",
     "start_time": "2024-06-10T21:47:27.078253Z"
    }
   },
   "cell_type": "code",
   "source": "theta",
   "id": "fcb17eaed974868e",
   "outputs": [
    {
     "data": {
      "text/plain": [
       "array([0., 0., 0., 0., 0., 0., 0., 0., 0., 0., 0., 0., 0.])"
      ]
     },
     "execution_count": 12,
     "metadata": {},
     "output_type": "execute_result"
    }
   ],
   "execution_count": 12
  },
  {
   "metadata": {},
   "cell_type": "markdown",
   "source": "# Learning Rate and Epochs",
   "id": "a062cb9b1517d8b9"
  },
  {
   "metadata": {
    "ExecuteTime": {
     "end_time": "2024-06-10T21:47:27.086008Z",
     "start_time": "2024-06-10T21:47:27.082675Z"
    }
   },
   "cell_type": "code",
   "source": [
    "alpha = 0.01\n",
    "iterations = 1000"
   ],
   "id": "948439dbb1abe0e",
   "outputs": [],
   "execution_count": 13
  },
  {
   "metadata": {},
   "cell_type": "markdown",
   "source": "__Compute Cost function Using Mean Squared Error ( MSE )__\n",
   "id": "98a78565a0807609"
  },
  {
   "metadata": {
    "ExecuteTime": {
     "end_time": "2024-06-10T21:47:27.090297Z",
     "start_time": "2024-06-10T21:47:27.086008Z"
    }
   },
   "cell_type": "code",
   "source": [
    "def compute_cost(X, y, theta):\n",
    "    m = len(y)\n",
    "    predictions = X.dot(theta)\n",
    "    cost = (1/(2*m)) * np.sum(np.square(predictions - y))\n",
    "    return cost"
   ],
   "id": "1e91ed781b289b7b",
   "outputs": [],
   "execution_count": 14
  },
  {
   "metadata": {},
   "cell_type": "markdown",
   "source": "__Define Gradient Descent Function__ ",
   "id": "2887eb133c0ed382"
  },
  {
   "metadata": {
    "ExecuteTime": {
     "end_time": "2024-06-10T21:47:27.095170Z",
     "start_time": "2024-06-10T21:47:27.090297Z"
    }
   },
   "cell_type": "code",
   "source": [
    "def gradient_descent(X, y, theta, alpha, iterations):\n",
    "    m = len(y)\n",
    "    costs = []\n",
    "\n",
    "    for i in range(iterations):\n",
    "        predictions = X.dot(theta)\n",
    "        errors = predictions - y\n",
    "        gradients = (1/m) * X.T.dot(errors)\n",
    "        theta -= alpha * gradients\n",
    "        cost = compute_cost(X, y, theta)\n",
    "        costs.append(cost)\n",
    "\n",
    "        if i % 100 == 0:\n",
    "            print(f\"Iteration {i}, Cost: {cost}\")\n",
    "\n",
    "    return theta, costs"
   ],
   "id": "63ec0de0ef67bd9a",
   "outputs": [],
   "execution_count": 15
  },
  {
   "metadata": {},
   "cell_type": "markdown",
   "source": [
    "# Model Training\n",
    "Using Gradient Descent Function"
   ],
   "id": "8fd56a2a5a8388c9"
  },
  {
   "metadata": {
    "ExecuteTime": {
     "end_time": "2024-06-10T21:47:27.120146Z",
     "start_time": "2024-06-10T21:47:27.095170Z"
    }
   },
   "cell_type": "code",
   "source": "theta, costs = gradient_descent(x_train, y_train, theta, alpha, iterations)",
   "id": "c6d28e3e4437742d",
   "outputs": [
    {
     "name": "stdout",
     "output_type": "stream",
     "text": [
      "Iteration 0, Cost: 3.0010373654679214\n",
      "Iteration 100, Cost: 0.45769712611418095\n",
      "Iteration 200, Cost: 0.13229542712709158\n",
      "Iteration 300, Cost: 0.060784676147787986\n",
      "Iteration 400, Cost: 0.04044622342438505\n",
      "Iteration 500, Cost: 0.032920366711552795\n",
      "Iteration 600, Cost: 0.029452182668049824\n",
      "Iteration 700, Cost: 0.027579483475873714\n",
      "Iteration 800, Cost: 0.026445857828262424\n",
      "Iteration 900, Cost: 0.025698594495569438\n"
     ]
    }
   ],
   "execution_count": 16
  },
  {
   "metadata": {},
   "cell_type": "markdown",
   "source": "Evaluate Model on test data to get results",
   "id": "8067697489263870"
  },
  {
   "metadata": {
    "ExecuteTime": {
     "end_time": "2024-06-10T21:47:27.124082Z",
     "start_time": "2024-06-10T21:47:27.120146Z"
    }
   },
   "cell_type": "code",
   "source": [
    "def predict(X, theta):\n",
    "    return X.dot(theta)"
   ],
   "id": "bef6f05d87e707ef",
   "outputs": [],
   "execution_count": 17
  },
  {
   "metadata": {
    "ExecuteTime": {
     "end_time": "2024-06-10T21:47:27.127943Z",
     "start_time": "2024-06-10T21:47:27.124082Z"
    }
   },
   "cell_type": "code",
   "source": "y_pred = predict(x_test, theta)",
   "id": "bc3c30ce77b88703",
   "outputs": [],
   "execution_count": 18
  },
  {
   "metadata": {},
   "cell_type": "markdown",
   "source": "__Calculating Test Data MSE__",
   "id": "58bb4b9b78677bae"
  },
  {
   "metadata": {
    "ExecuteTime": {
     "end_time": "2024-06-10T21:47:27.132281Z",
     "start_time": "2024-06-10T21:47:27.127943Z"
    }
   },
   "cell_type": "code",
   "source": [
    "mse = np.mean((y_pred - y_test)**2)\n",
    "print(f'MSE: {mse}')"
   ],
   "id": "b8e93c2c0a7b7a77",
   "outputs": [
    {
     "name": "stdout",
     "output_type": "stream",
     "text": [
      "MSE: 0.9866396715875905\n"
     ]
    }
   ],
   "execution_count": 19
  },
  {
   "metadata": {},
   "cell_type": "markdown",
   "source": [
    "# Plotting\n",
    "__Cost Function over Iterations__"
   ],
   "id": "1480e93a5dc02657"
  },
  {
   "metadata": {
    "ExecuteTime": {
     "end_time": "2024-06-10T21:47:27.423344Z",
     "start_time": "2024-06-10T21:47:27.132281Z"
    }
   },
   "cell_type": "code",
   "source": [
    "plt.plot(costs)\n",
    "plt.xlabel('Iterations')\n",
    "plt.ylabel('Cost')\n",
    "plt.title('Cost Function Over Iterations')\n",
    "plt.show()"
   ],
   "id": "364c3b1844af916e",
   "outputs": [
    {
     "data": {
      "text/plain": [
       "<Figure size 640x480 with 1 Axes>"
      ],
      "image/png": "[encoded data removed]"
     },
     "metadata": {},
     "output_type": "display_data"
    }
   ],
   "execution_count": 20
  },
  {
   "metadata": {},
   "cell_type": "markdown",
   "source": "__True Values vs Predicted Values__",
   "id": "5f9310c3d174fb1c"
  },
  {
   "metadata": {
    "ExecuteTime": {
     "end_time": "2024-06-10T21:47:27.539017Z",
     "start_time": "2024-06-10T21:47:27.423344Z"
    }
   },
   "cell_type": "code",
   "source": [
    "plt.scatter(y_test, y_pred)\n",
    "plt.xlabel('True Values')\n",
    "plt.ylabel('Predicted Values')\n",
    "plt.title('True Values VS Predicted Values')\n",
    "plt.show()"
   ],
   "id": "86a404b84ae7621e",
   "outputs": [
    {
     "data": {
      "text/plain": [
       "<Figure size 640x480 with 1 Axes>"
      ],
      "image/png": "[encoded data removed]"
     },
     "metadata": {},
     "output_type": "display_data"
    }
   ],
   "execution_count": 21
  },
  {
   "metadata": {},
   "cell_type": "markdown",
   "source": "__Printing Fincal Model Parameters__",
   "id": "2db108f8b429216a"
  },
  {
   "metadata": {
    "ExecuteTime": {
     "end_time": "2024-06-10T21:47:27.543710Z",
     "start_time": "2024-06-10T21:47:27.539017Z"
    }
   },
   "cell_type": "code",
   "source": "print('Final Model weights:', theta)",
   "id": "1b2d04e30adbb0d7",
   "outputs": [
    {
     "name": "stdout",
     "output_type": "stream",
     "text": [
      "Final Model weights: [ 2.48011829 -0.02580709  0.1046429   0.00919458 -0.01460465 -0.02928548\n",
      " -0.19557183 -0.07929974  0.01668593  0.02869368  0.01125196  0.02117182\n",
      "  0.07404123]\n"
     ]
    }
   ],
   "execution_count": 22
  }
 ],
 "metadata": {
  "kernelspec": {
   "display_name": "Python 3",
   "language": "python",
   "name": "python3"
  },
  "language_info": {
   "codemirror_mode": {
    "name": "ipython",
    "version": 2
   },
   "file_extension": ".py",
   "mimetype": "text/x-python",
   "name": "python",
   "nbconvert_exporter": "python",
   "pygments_lexer": "ipython2",
   "version": "2.7.6"
  }
 },
 "nbformat": 4,
 "nbformat_minor": 5
}
